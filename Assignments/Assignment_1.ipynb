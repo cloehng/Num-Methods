{
  "cells": [
    {
      "cell_type": "markdown",
      "metadata": {
        "id": "XY9jOMu9oH0x"
      },
      "source": [
        "# Assignment 1\n",
        "\n",
        "Due end of day Thursday Sept 18th."
      ]
    },
    {
      "cell_type": "markdown",
      "metadata": {
        "id": "_8O2j2E3oM0Z"
      },
      "source": [
        "## Question 1:\n",
        "{method, implementation, answer}\n",
        "\n",
        "Examine the value of sparse matricies by comparing the approximate computational efficiencies of sparse and dense solvers (on the same system). Use the %timeit function to approximate the complexity.\n",
        "\n",
        "HINT: Refer to the lecture notes on how to generate, store, and apply sparse solvers.  "
      ]
    },
    {
      "cell_type": "markdown",
      "source": [
        "Method (from Welland's notes):\n",
        "\n",
        "Matrix types and sparsity -> explains how sparse matrices only store nonzero entries in special formats (CSR, CSC, etc.), drastically reducing memory.\n",
        "\n",
        "Computational complexity -> dense Gaussian elimination costs 𝑂(𝑛3) operations, while sparse solvers reduce this depending on structure (often closer to linear or 𝑂(𝑛log⁡𝑛) for banded/tridiagonal systems).\n",
        "\n",
        "Conditioning & error -> when comparing solvers, you also consider accuracy, since iterative sparse methods may trade some error for speed.\n",
        "\n",
        "1. Generate test matrices (tridiagonal or banded, which are sparse).\n",
        "2. Solve them with both dense (np.linalg.solve) and sparse (scipy.sparse.linalg.spsolve, cg).\n",
        "3. Use %timeit (or timeit in scripts) to measure runtimes.\n",
        "4. Compute relative residual ||𝐴𝑥−𝑏|| / ||𝑏|| to check accuracy.\n",
        "5. Compare runtimes and scaling with theoretical expectations from lecture notes."
      ],
      "metadata": {
        "id": "mj2NjTWYCVr7"
      }
    },
    {
      "cell_type": "code",
      "source": [
        "import numpy as np\n",
        "import scipy.sparse as sp\n",
        "import scipy.sparse.linalg as spla\n",
        "\n",
        "# Matrix size\n",
        "n = 2000\n",
        "\n",
        "# random sparse matrix\n",
        "A_sparse = sp.diags([np.ones(n)*2, np.ones(n-1), np.ones(n-1)], [0, -1, 1], format=\"csr\") + sp.eye(n)\n",
        "b = np.ones(n)\n",
        "\n",
        "# dense vers\n",
        "A_dense = A_sparse.toarray()\n",
        "\n",
        "# Sparse solver\n",
        "%timeit spla.spsolve(A_sparse, b)\n",
        "\n",
        "# Dense solver\n",
        "%timeit np.linalg.solve(A_dense, b)"
      ],
      "metadata": {
        "colab": {
          "base_uri": "https://localhost:8080/"
        },
        "id": "3GsBDGkq-13h",
        "outputId": "bbcf3e4d-04ee-4abb-d3c9-d1ea976ba804"
      },
      "execution_count": 1,
      "outputs": [
        {
          "output_type": "stream",
          "name": "stdout",
          "text": [
            "3.29 ms ± 1.14 ms per loop (mean ± std. dev. of 7 runs, 100 loops each)\n",
            "477 ms ± 63 ms per loop (mean ± std. dev. of 7 runs, 1 loop each)\n"
          ]
        }
      ]
    },
    {
      "cell_type": "markdown",
      "metadata": {
        "id": "Eyyj6js9TS7g"
      },
      "source": [
        "## Question 2\n",
        "\n",
        "Consider the truss:\n",
        "\n",
        "![image.png](data:image/png;base64,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)\n"
      ]
    },
    {
      "cell_type": "markdown",
      "metadata": {
        "id": "QcdY0wACTwcN"
      },
      "source": [
        "### 2a) Write the linear system for the tensions $P_i$ as equations and in matrix form\n",
        "{answer}"
      ]
    },
    {
      "cell_type": "markdown",
      "source": [
        "Joint Equilibrium: ∑Fx=0, ∑Fy=0\n",
        "\n",
        "18kN load (down): -P1 + P2 = 0 [x-direction] and P4 = 18 [y-direction]\n",
        "\n",
        "12kN load (down): −P2 − cP5 ​​= 0 [x-direction] and cP5 = 12 [y-direction]\n",
        "\n",
        "top with no external load: ​−cP3 + cP5 − P6 = 0 [x-direction] and −cP3 − P4 − cP5 = 0 [y-direction]\n",
        "\n",
        "where c=sqrt(2)/2"
      ],
      "metadata": {
        "id": "IDichrO56mfx"
      }
    },
    {
      "cell_type": "markdown",
      "source": [
        "\\begin{equation}\n",
        "  \\begin{bmatrix}\n",
        "-1 & 1 & 0 & 0 & 0 & 0\\\\\n",
        "0 & 0 & 0 & 1 & 0 & 0 \\\\\n",
        "0 & -1 & 0 & 0 & -c & 0 \\\\\n",
        "0 & 0 & -c & -1 & -c & 0\n",
        "  \\end{bmatrix}\n",
        "  %\n",
        "  \\begin{bmatrix}\n",
        "    P_1\\\\ P_2 \\\\ P_3 \\\\ P_4 \\\\ P_5 \\\\ P_6\n",
        "  \\end{bmatrix}\n",
        "  %\n",
        "  =\n",
        "  %\n",
        "  \\begin{bmatrix}\n",
        "0 \\\\ 18 \\\\ 0 \\\\ 12 \\\\ 0 \\\\ 0\n",
        "\\end{bmatrix}\n",
        "\\end{equation}\n"
      ],
      "metadata": {
        "id": "EnDm4p5h4Eo6"
      }
    },
    {
      "cell_type": "markdown",
      "metadata": {
        "id": "O7_OZCNFT04n"
      },
      "source": [
        "### 2b) Solve for $P_i$ using LU decomposition and substitution.\n",
        "{method, answer}"
      ]
    },
    {
      "cell_type": "code",
      "source": [
        "import numpy as np\n",
        "from scipy.linalg import lu_factor, lu_solve\n",
        "\n",
        "c = np.sqrt(2)/2\n",
        "A = np.array([\n",
        "    [-1,  1,  0,  0,   0,  0],\n",
        "    [ 0,  0,  0,  1,   0,  0],\n",
        "    [ 0, -1,  0,  0,  -c,  0],\n",
        "    [ 0,  0,  0,  0,   c,  0],\n",
        "    [ 0,  0, -c,  0,   c, -1],\n",
        "    [ 0,  0, -c, -1,  -c,  0],\n",
        "], dtype=float)\n",
        "\n",
        "b = np.array([0, 18, 0, 12, 0, 0], dtype=float)\n",
        "\n",
        "LU, piv = lu_factor(A) # factor once\n",
        "P = lu_solve((LU, piv), b) # forward/back substitution\n",
        "print(P) # [P1,P2,P3,P4,P5,P6]"
      ],
      "metadata": {
        "colab": {
          "base_uri": "https://localhost:8080/"
        },
        "id": "rBIsY9W_1-_q",
        "outputId": "7f21952b-5418-4fe8-9c40-b9b39228d6d9"
      },
      "execution_count": 1,
      "outputs": [
        {
          "output_type": "stream",
          "name": "stdout",
          "text": [
            "[-12.         -12.         -42.42640687  18.          16.97056275\n",
            "  42.        ]\n"
          ]
        }
      ]
    },
    {
      "cell_type": "markdown",
      "source": [
        "*   P1 = -12kN\n",
        "*   P2 = -12kN\n",
        "*   P3 = -42.43kN\n",
        "*   P4 = 18 kN\n",
        "*   P5 = 6.97kN\n",
        "*   P6 = 42kN"
      ],
      "metadata": {
        "id": "QiJcC4dX8r5c"
      }
    },
    {
      "cell_type": "markdown",
      "metadata": {
        "id": "F1QiWtJPUq6e"
      },
      "source": [
        "### 2c)  Double the loads (18 kN and 12 kN) and solve for $P_i$ again *without refactoring*.\n",
        "{answer}"
      ]
    },
    {
      "cell_type": "markdown",
      "metadata": {
        "id": "bn1Z6f05VNNI"
      },
      "source": [
        "## Question 3\n",
        "\n",
        "Consider the matrix:\n",
        "\n",
        "$$ A = \\begin{bmatrix} 1 & 2 \\\\ 3 & 4 \\end{bmatrix}$$"
      ]
    },
    {
      "cell_type": "markdown",
      "metadata": {
        "id": "B0mIIg2XXh-X"
      },
      "source": [
        "## 3a) Calculate the condition number of A\n",
        "{answer}"
      ]
    },
    {
      "cell_type": "markdown",
      "metadata": {
        "id": "uounfmQUb5fH"
      },
      "source": [
        "## 3b) Let's use a preconditioner matrix $P$ to improve the condition number of the product $P^{-1} A$. Give 2 examples of $P$ that improve the condition number.\n",
        "\n",
        "Can you identify the 'perfect' preconditioner? (Consider the easiest matrix to solve!)\n",
        "{answer, answer}"
      ]
    }
  ],
  "metadata": {
    "colab": {
      "provenance": [],
      "toc_visible": true
    },
    "kernelspec": {
      "display_name": "Python 3",
      "name": "python3"
    },
    "language_info": {
      "name": "python"
    }
  },
  "nbformat": 4,
  "nbformat_minor": 0
}